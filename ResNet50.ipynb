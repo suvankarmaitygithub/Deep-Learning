{
  "nbformat": 4,
  "nbformat_minor": 0,
  "metadata": {
    "colab": {
      "provenance": []
    },
    "kernelspec": {
      "name": "python3",
      "display_name": "Python 3"
    },
    "language_info": {
      "name": "python"
    }
  },
  "cells": [
    {
      "cell_type": "code",
      "execution_count": 1,
      "metadata": {
        "id": "IYZA5pN14Uf9"
      },
      "outputs": [],
      "source": [
        "import numpy as np\n",
        "import tensorflow\n",
        "from tensorflow.keras.applications.resnet50 import ResNet50, preprocess_input, decode_predictions\n",
        "from tensorflow.keras.preprocessing import image\n",
        "\n",
        "\n"
      ]
    },
    {
      "cell_type": "code",
      "source": [
        "# Load the ResNet50 model pre-trained on ImageNet data\n",
        "model = ResNet50(weights='imagenet')\n",
        "\n",
        "# Load and preprocess the image\n",
        "img_path = '/content/Big-Ben-London.jpg'\n",
        "img = image.load_img(img_path, target_size=(224, 224))\n",
        "x = image.img_to_array(img)\n",
        "x = np.expand_dims(x, axis=0)\n",
        "x = preprocess_input(x)\n",
        "\n",
        "# Make predictions\n",
        "predictions = model.predict(x)\n",
        "\n",
        "# Decode the predictions (top 3)\n",
        "decoded_predictions = decode_predictions(predictions, top=3)[0]\n",
        "\n",
        "# Print the top 3 predictions\n",
        "for i, (imagenet_id, label, score) in enumerate(decoded_predictions):\n",
        "    print(f\"{i + 1}: {label} ({score:.2f})\")"
      ],
      "metadata": {
        "colab": {
          "base_uri": "https://localhost:8080/"
        },
        "id": "LJGf9_EE49rM",
        "outputId": "e9cae814-298d-4b10-b4c3-18bad99ebb62"
      },
      "execution_count": 10,
      "outputs": [
        {
          "output_type": "stream",
          "name": "stdout",
          "text": [
            "1/1 [==============================] - 1s 1s/step\n",
            "1: palace (0.53)\n",
            "2: bell_cote (0.31)\n",
            "3: analog_clock (0.06)\n"
          ]
        }
      ]
    },
    {
      "cell_type": "code",
      "source": [
        "# Load the ResNet50 model pre-trained on ImageNet data\n",
        "model = ResNet50(weights='imagenet')\n",
        "\n",
        "# Load and preprocess the image\n",
        "img_path = '/content/Big-Ben-London.jpg'\n",
        "img = image.load_img(img_path, target_size=(224, 224))\n",
        "x = image.img_to_array(img)\n",
        "x = np.expand_dims(x, axis=0)\n",
        "x = preprocess_input(x)\n",
        "\n",
        "# Make predictions\n",
        "predictions = model.predict(x)\n",
        "\n",
        "# Decode the predictions (all)\n",
        "decoded_predictions = decode_predictions(predictions)[0]\n",
        "\n",
        "# Print the top 3 predictions\n",
        "for i, (imagenet_id, label, score) in enumerate(decoded_predictions):\n",
        "    print(f\"{i + 1}: {label} ({score:.2f})\")"
      ],
      "metadata": {
        "colab": {
          "base_uri": "https://localhost:8080/"
        },
        "id": "MeCpU2uc5lLR",
        "outputId": "c1264c67-ce99-47fd-c716-8a4e5f9378cf"
      },
      "execution_count": 11,
      "outputs": [
        {
          "output_type": "stream",
          "name": "stdout",
          "text": [
            "1/1 [==============================] - 1s 1s/step\n",
            "1: palace (0.53)\n",
            "2: bell_cote (0.31)\n",
            "3: analog_clock (0.06)\n",
            "4: pedestal (0.03)\n",
            "5: barometer (0.01)\n"
          ]
        }
      ]
    },
    {
      "cell_type": "code",
      "source": [],
      "metadata": {
        "id": "oMHAeIu3E8GF"
      },
      "execution_count": null,
      "outputs": []
    }
  ]
}